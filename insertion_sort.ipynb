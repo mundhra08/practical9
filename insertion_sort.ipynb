{
  "nbformat": 4,
  "nbformat_minor": 0,
  "metadata": {
    "colab": {
      "name": "insertion sort.ipynb",
      "provenance": [],
      "authorship_tag": "ABX9TyOEfYP5hA/7Moll9z6a8/vE",
      "include_colab_link": true
    },
    "kernelspec": {
      "name": "python3",
      "display_name": "Python 3"
    },
    "language_info": {
      "name": "python"
    }
  },
  "cells": [
    {
      "cell_type": "markdown",
      "metadata": {
        "id": "view-in-github",
        "colab_type": "text"
      },
      "source": [
        "<a href=\"https://colab.research.google.com/github/mundhra08/practical9/blob/main/insertion_sort.ipynb\" target=\"_parent\"><img src=\"https://colab.research.google.com/assets/colab-badge.svg\" alt=\"Open In Colab\"/></a>"
      ]
    },
    {
      "cell_type": "code",
      "metadata": {
        "colab": {
          "base_uri": "https://localhost:8080/"
        },
        "id": "OP2FP7uQ7xLz",
        "outputId": "e3171a9e-e92b-430b-c7f0-6441eae5d194"
      },
      "source": [
        "a=[]\n",
        "n=int(input(\"enter no of students: \" ))\n",
        "for i in range(n):\n",
        "  a.append(float(input(\"enter percentage: \")))\n",
        "def insertion(a,n):\n",
        "  for i in range(1,n):\n",
        "    temp=a[i]\n",
        "    j=i-1\n",
        "    while j>=0 and temp<a[j]:\n",
        "      a[j+1]=a[j]\n",
        "      j-=1\n",
        "      a[j+1]=temp\n",
        "\n",
        "print(\"sorted array: \")\n",
        "insertion(a,n)\n",
        "print(a)      \n",
        "  \n"
      ],
      "execution_count": null,
      "outputs": [
        {
          "output_type": "stream",
          "name": "stdout",
          "text": [
            "enter no of students: 5\n",
            "enter percentage: 75.5\n",
            "enter percentage: 68.3\n",
            "enter percentage: 84.7\n",
            "enter percentage: 65.4\n",
            "enter percentage: 88.2\n",
            "sorted array: \n",
            "[65.4, 68.3, 75.5, 84.7, 88.2]\n"
          ]
        }
      ]
    },
    {
      "cell_type": "code",
      "metadata": {
        "id": "RYvm27Sg-wCa"
      },
      "source": [
        ""
      ],
      "execution_count": null,
      "outputs": []
    },
    {
      "cell_type": "code",
      "metadata": {
        "id": "1FOu1X7x7nk_",
        "colab": {
          "base_uri": "https://localhost:8080/"
        },
        "outputId": "3f68b6b2-2225-4bc6-beff-107bdfa799dd"
      },
      "source": [
        "a=[]\n",
        "n=int(input(\"enter no of students: \" ))\n",
        "for i in range(n):\n",
        "  a.append(float(input(\"enter percentage: \")))\n",
        "def selection_sort(a,n):\n",
        "  for i in range(n):\n",
        "    min=i\n",
        "    for j in range(i+1,n):\n",
        "      if(a[j]<a[i]):\n",
        "        min=j\n",
        "    temp=a[i]\n",
        "    a[i]=a[j]\n",
        "    a[j]=min    \n",
        "print(\"sorted array is: \")\n",
        "selection_sort(a,n)\n",
        "print(a[i])\n"
      ],
      "execution_count": null,
      "outputs": [
        {
          "output_type": "stream",
          "name": "stdout",
          "text": [
            "enter no of students: 2\n",
            "enter percentage: 65.5\n",
            "enter percentage: 75.5\n",
            "sorted array is: \n",
            "1\n"
          ]
        }
      ]
    }
  ]
}